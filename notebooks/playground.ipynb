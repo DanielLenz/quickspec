{
 "cells": [
  {
   "cell_type": "code",
   "execution_count": 1,
   "metadata": {
    "collapsed": true
   },
   "outputs": [],
   "source": [
    "%load_ext autoreload\n",
    "%autoreload 2\n",
    "%matplotlib inline\n",
    "%config InlineBackend.figure_format = 'retina'"
   ]
  },
  {
   "cell_type": "code",
   "execution_count": 2,
   "metadata": {},
   "outputs": [
    {
     "data": {
      "text/plain": [
       "'/Users/dlenz/projects/quickspec_testing/notebooks'"
      ]
     },
     "execution_count": 2,
     "metadata": {},
     "output_type": "execute_result"
    }
   ],
   "source": [
    "pwd"
   ]
  },
  {
   "cell_type": "code",
   "execution_count": 3,
   "metadata": {
    "collapsed": true
   },
   "outputs": [],
   "source": [
    "import os\n",
    "import numpy as np\n",
    "import pickle as pk\n",
    "import quickspec as qs"
   ]
  },
  {
   "cell_type": "code",
   "execution_count": 4,
   "metadata": {
    "collapsed": true
   },
   "outputs": [],
   "source": [
    "ls = np.arange(20, 4001, 20)\n",
    "zc = 2.\n",
    "sigmaz = 2.\n",
    "b= 0.8 / np.sqrt(2.4)\n",
    "nonlinear = True"
   ]
  },
  {
   "cell_type": "code",
   "execution_count": 5,
   "metadata": {
    "collapsed": true
   },
   "outputs": [],
   "source": [
    "sips = qs.initial_ps(amp=2.2e-9, n_s=0.96, k_pivot=0.05)"
   ]
  },
  {
   "cell_type": "code",
   "execution_count": 6,
   "metadata": {},
   "outputs": [
    {
     "data": {
      "text/plain": [
       "<quickspec.quickspec.initial_ps at 0x10c32f4a8>"
      ]
     },
     "execution_count": 6,
     "metadata": {},
     "output_type": "execute_result"
    }
   ],
   "source": [
    "sips"
   ]
  },
  {
   "cell_type": "code",
   "execution_count": 7,
   "metadata": {
    "collapsed": true
   },
   "outputs": [],
   "source": [
    "lcdm = qs.cosmo.lcdm(omr=0.0, omb=0.049, omc=0.265, oml=0.686, H0=67.3)"
   ]
  },
  {
   "cell_type": "code",
   "execution_count": 8,
   "metadata": {},
   "outputs": [
    {
     "data": {
      "text/plain": [
       "dict_keys(['omr', 'omb', 'omc', 'oml', 'H0', 'h', 'omm', 'zvec', 'xvec', 'zmin', 'zmax', 'xmin', 'xmax', 'spl_x_z', 'spl_z_x'])"
      ]
     },
     "execution_count": 8,
     "metadata": {},
     "output_type": "execute_result"
    }
   ],
   "source": [
    "vars(lcdm).keys()"
   ]
  },
  {
   "cell_type": "code",
   "execution_count": 9,
   "metadata": {
    "collapsed": true
   },
   "outputs": [],
   "source": [
    "mps = qs.mps.lin.mps_camb(lcdm, sips, nonlinear=nonlinear)"
   ]
  },
  {
   "cell_type": "code",
   "execution_count": 10,
   "metadata": {},
   "outputs": [
    {
     "name": "stdout",
     "output_type": "stream",
     "text": [
      "6.72327e-07 134.7346\n",
      "0.0 2048.0\n"
     ]
    }
   ],
   "source": [
    "print(mps.kmin, mps.kmax)\n",
    "print(mps.zmin, mps.zmax)"
   ]
  },
  {
   "cell_type": "code",
   "execution_count": 11,
   "metadata": {},
   "outputs": [
    {
     "name": "stdout",
     "output_type": "stream",
     "text": [
      "6.72327e-07 134.7346\n",
      "0.0 2048.0\n"
     ]
    }
   ],
   "source": [
    "print(mps.kmin, mps.kmax)\n",
    "print(mps.zmin, mps.zmax)"
   ]
  },
  {
   "cell_type": "code",
   "execution_count": 12,
   "metadata": {},
   "outputs": [
    {
     "data": {
      "text/plain": [
       "(array([  6.73000000e-07,   7.10886473e-07,   7.50905762e-07,\n",
       "          7.93177933e-07,   8.37829811e-07]),\n",
       " array([ 108.11957128,  114.2061526 ,  120.63537746,  127.42653494,  134.6       ]))"
      ]
     },
     "execution_count": 12,
     "metadata": {},
     "output_type": "execute_result"
    }
   ],
   "source": [
    "mps.arr_k[:5], mps.arr_k[-5:]"
   ]
  },
  {
   "cell_type": "code",
   "execution_count": 13,
   "metadata": {
    "collapsed": true
   },
   "outputs": [],
   "source": [
    "nu = 600.e9"
   ]
  },
  {
   "cell_type": "code",
   "execution_count": 14,
   "metadata": {
    "collapsed": true
   },
   "outputs": [],
   "source": [
    "klen = qs.lens.kern(lcdm)\n",
    "kcib = qs.cib.hall.ssed_kern(nu, jbar_kwargs={'zc': zc, 'sigmaz': sigmaz}, b=b)"
   ]
  },
  {
   "cell_type": "code",
   "execution_count": 15,
   "metadata": {},
   "outputs": [
    {
     "data": {
      "text/plain": [
       "<quickspec.cib.hall.ssed_kern at 0x10e30ba20>"
      ]
     },
     "execution_count": 15,
     "metadata": {},
     "output_type": "execute_result"
    }
   ],
   "source": [
    "kcib"
   ]
  },
  {
   "cell_type": "code",
   "execution_count": 16,
   "metadata": {
    "scrolled": false
   },
   "outputs": [],
   "source": [
    "cib_cp = np.array([mps.cl_limber_z(l, kcib, klen, zmin=1.e-2, zmax=20.) for l in ls])"
   ]
  },
  {
   "cell_type": "code",
   "execution_count": 17,
   "metadata": {},
   "outputs": [
    {
     "data": {
      "text/plain": [
       "array([  5.97079152e-04,   1.85913842e-04,   8.15367830e-05,\n",
       "         4.17124070e-05,   2.35013912e-05,   1.42393909e-05,\n",
       "         9.16313771e-06,   6.20746098e-06,   4.39111940e-06,\n",
       "         3.21784767e-06,   2.42486533e-06,   1.87821008e-06,\n",
       "         1.46096891e-06,   1.15880498e-06,   9.27222736e-07,\n",
       "         7.49265806e-07,   6.10661731e-07,   5.01983751e-07,\n",
       "         4.16250040e-07,   3.48200908e-07,   2.93837019e-07,\n",
       "         2.48182984e-07,   2.14515311e-07,   1.85314416e-07,\n",
       "         1.61071815e-07,   1.40795429e-07,   1.23622191e-07,\n",
       "         1.08646363e-07,   9.63960512e-08,   8.55184734e-08,\n",
       "         7.61013589e-08,   6.79078219e-08,   6.07834668e-08,\n",
       "         5.43396629e-08,   4.90718444e-08,   4.43420438e-08,\n",
       "         4.01492823e-08,   3.64584260e-08,   3.32009457e-08,\n",
       "         3.03899448e-08,   2.76057696e-08,   2.54267951e-08,\n",
       "         2.33579148e-08,   2.15054992e-08,   1.97947797e-08,\n",
       "         1.82849436e-08,   1.70294192e-08,   1.57937964e-08,\n",
       "         1.45799094e-08,   1.35417040e-08,   1.26217080e-08,\n",
       "         1.17538206e-08,   1.09560085e-08,   1.01927021e-08,\n",
       "         9.53412484e-09,   8.93612079e-09,   8.39113025e-09,\n",
       "         7.89066909e-09,   7.42797339e-09,   6.99707015e-09,\n",
       "         6.59391638e-09,   6.21640395e-09,   5.86240873e-09,\n",
       "         5.53117099e-09,   5.22270183e-09,   4.93962392e-09,\n",
       "         4.67678318e-09,   4.43235882e-09,   4.20502804e-09,\n",
       "         3.98865787e-09,   3.79320331e-09,   3.61012965e-09,\n",
       "         3.43770764e-09,   3.27446049e-09,   3.11956245e-09,\n",
       "         2.97279168e-09,   2.83414250e-09,   2.70349408e-09,\n",
       "         2.58066386e-09,   2.46534370e-09,   2.35951012e-09,\n",
       "         2.25826160e-09,   2.16266873e-09,   2.07213450e-09,\n",
       "         1.98624772e-09,   1.90472117e-09,   1.82730815e-09,\n",
       "         1.75502739e-09,   1.68531471e-09,   1.61893055e-09,\n",
       "         1.55580068e-09,   1.49582735e-09,   1.43887052e-09,\n",
       "         1.38477618e-09,   1.33338573e-09,   1.28528742e-09,\n",
       "         1.23885030e-09,   1.19452466e-09,   1.15217033e-09,\n",
       "         1.11169214e-09,   1.07301341e-09,   1.03605862e-09,\n",
       "         1.00075367e-09,   9.67363828e-10,   9.35046309e-10,\n",
       "         9.04079319e-10,   8.74415229e-10,   8.46007239e-10,\n",
       "         8.18805803e-10,   7.92758988e-10,   7.67810892e-10,\n",
       "         7.43901015e-10,   7.20967717e-10,   6.98952555e-10,\n",
       "         6.77803368e-10,   6.57474452e-10,   6.37923512e-10,\n",
       "         6.19112028e-10,   6.01007493e-10,   5.83580689e-10,\n",
       "         5.66803388e-10,   5.50646940e-10,   5.35083547e-10,\n",
       "         5.20088300e-10,   5.05637413e-10,   4.91706842e-10,\n",
       "         4.78273607e-10,   4.65316187e-10,   4.52814807e-10,\n",
       "         4.40750717e-10,   4.29104653e-10,   4.17858029e-10,\n",
       "         4.06993337e-10,   3.96493988e-10,   3.86344212e-10,\n",
       "         3.76528920e-10,   3.67033714e-10,   3.57845659e-10,\n",
       "         3.48952891e-10,   3.40344341e-10,   3.32009511e-10,\n",
       "         3.23938362e-10,   3.16121306e-10,   3.08549184e-10,\n",
       "         3.01213112e-10,   2.94104200e-10,   2.87213792e-10,\n",
       "         2.80533389e-10,   2.74054837e-10,   2.67770356e-10,\n",
       "         2.61672515e-10,   2.55754230e-10,   2.50008783e-10,\n",
       "         2.44429883e-10,   2.39011570e-10,   2.33748261e-10,\n",
       "         2.28634650e-10,   2.23665644e-10,   2.18836355e-10,\n",
       "         2.14142088e-10,   2.09578309e-10,   2.05140639e-10,\n",
       "         2.00824854e-10,   1.96626865e-10,   1.92542690e-10,\n",
       "         1.88568495e-10,   1.84700602e-10,   1.80935479e-10,\n",
       "         1.77269736e-10,   1.73700129e-10,   1.70223548e-10,\n",
       "         1.66837001e-10,   1.63537619e-10,   1.60322658e-10,\n",
       "         1.57189481e-10,   1.54135548e-10,   1.51158414e-10,\n",
       "         1.48255724e-10,   1.45425205e-10,   1.42664661e-10,\n",
       "         1.39971973e-10,   1.37345098e-10,   1.34782062e-10,\n",
       "         1.32280957e-10,   1.29839943e-10,   1.27457244e-10,\n",
       "         1.25131146e-10,   1.22859997e-10,   1.20642201e-10,\n",
       "         1.18476221e-10,   1.16360569e-10,   1.14293809e-10,\n",
       "         1.12274554e-10,   1.10301462e-10,   1.08373238e-10,\n",
       "         1.06488627e-10,   1.04646419e-10,   1.02845443e-10,\n",
       "         1.01084565e-10,   9.93626888e-11])"
      ]
     },
     "execution_count": 17,
     "metadata": {},
     "output_type": "execute_result"
    }
   ],
   "source": [
    "cib_cp"
   ]
  },
  {
   "cell_type": "code",
   "execution_count": 18,
   "metadata": {},
   "outputs": [
    {
     "data": {
      "text/plain": [
       "[<matplotlib.lines.Line2D at 0x10e32d780>]"
      ]
     },
     "execution_count": 18,
     "metadata": {},
     "output_type": "execute_result"
    },
    {
     "data": {
      "image/png": "[encoded data removed]",
      "text/plain": [
       "<matplotlib.figure.Figure at 0x10e30bac8>"
      ]
     },
     "metadata": {
      "image/png": {
       "height": 251,
       "width": 386
      }
     },
     "output_type": "display_data"
    }
   ],
   "source": [
    "plt.loglog(ls, cib_cp)"
   ]
  },
  {
   "cell_type": "code",
   "execution_count": 19,
   "metadata": {
    "collapsed": true,
    "scrolled": true
   },
   "outputs": [],
   "source": [
    "cib_cc = np.array([mps.cl_limber_z(l, kcib, zmin=1.e-2, zmax=20.) for l in ls])"
   ]
  },
  {
   "cell_type": "code",
   "execution_count": 20,
   "metadata": {},
   "outputs": [
    {
     "data": {
      "text/plain": [
       "[<matplotlib.lines.Line2D at 0x10fdaa0b8>]"
      ]
     },
     "execution_count": 20,
     "metadata": {},
     "output_type": "execute_result"
    },
    {
     "data": {
      "image/png": "[encoded data removed]",
      "text/plain": [
       "<matplotlib.figure.Figure at 0x10fd69208>"
      ]
     },
     "metadata": {
      "image/png": {
       "height": 251,
       "width": 375
      }
     },
     "output_type": "display_data"
    }
   ],
   "source": [
    "plt.loglog(ls, cib_cc)"
   ]
  },
  {
   "cell_type": "code",
   "execution_count": 21,
   "metadata": {
    "collapsed": true,
    "scrolled": true
   },
   "outputs": [],
   "source": [
    "cib_pp = np.array([mps.cl_limber_z(l, klen, zmin=1.e-2, zmax=20.) for l in ls])"
   ]
  },
  {
   "cell_type": "code",
   "execution_count": 22,
   "metadata": {},
   "outputs": [
    {
     "data": {
      "text/plain": [
       "[]"
      ]
     },
     "execution_count": 22,
     "metadata": {},
     "output_type": "execute_result"
    },
    {
     "data": {
      "image/png": "[encoded data removed]",
      "text/plain": [
       "<matplotlib.figure.Figure at 0x10fa1e470>"
      ]
     },
     "metadata": {
      "image/png": {
       "height": 251,
       "width": 373
      }
     },
     "output_type": "display_data"
    }
   ],
   "source": [
    "plt.plot(ls, (ls * (ls + 1.))**2. / 2. / np.pi * cib_pp * 1.e7)\n",
    "plt.semilogx()"
   ]
  },
  {
   "cell_type": "code",
   "execution_count": null,
   "metadata": {
    "collapsed": true
   },
   "outputs": [],
   "source": []
  },
  {
   "cell_type": "code",
   "execution_count": null,
   "metadata": {
    "collapsed": true
   },
   "outputs": [],
   "source": []
  },
  {
   "cell_type": "code",
   "execution_count": null,
   "metadata": {
    "collapsed": true
   },
   "outputs": [],
   "source": []
  },
  {
   "cell_type": "code",
   "execution_count": null,
   "metadata": {
    "collapsed": true
   },
   "outputs": [],
   "source": []
  },
  {
   "cell_type": "code",
   "execution_count": null,
   "metadata": {
    "collapsed": true
   },
   "outputs": [],
   "source": []
  },
  {
   "cell_type": "code",
   "execution_count": null,
   "metadata": {
    "collapsed": true
   },
   "outputs": [],
   "source": []
  },
  {
   "cell_type": "code",
   "execution_count": null,
   "metadata": {
    "collapsed": true
   },
   "outputs": [],
   "source": []
  },
  {
   "cell_type": "code",
   "execution_count": null,
   "metadata": {
    "collapsed": true
   },
   "outputs": [],
   "source": []
  },
  {
   "cell_type": "code",
   "execution_count": null,
   "metadata": {
    "collapsed": true
   },
   "outputs": [],
   "source": []
  },
  {
   "cell_type": "code",
   "execution_count": null,
   "metadata": {
    "collapsed": true
   },
   "outputs": [],
   "source": []
  },
  {
   "cell_type": "code",
   "execution_count": null,
   "metadata": {
    "collapsed": true
   },
   "outputs": [],
   "source": []
  },
  {
   "cell_type": "code",
   "execution_count": null,
   "metadata": {
    "collapsed": true
   },
   "outputs": [],
   "source": []
  },
  {
   "cell_type": "code",
   "execution_count": null,
   "metadata": {
    "collapsed": true
   },
   "outputs": [],
   "source": []
  },
  {
   "cell_type": "code",
   "execution_count": null,
   "metadata": {
    "collapsed": true
   },
   "outputs": [],
   "source": []
  },
  {
   "cell_type": "code",
   "execution_count": 5,
   "metadata": {
    "collapsed": true
   },
   "outputs": [],
   "source": [
    "def get_cl_cib_hall(nu, ls=np.arange(20, 4001, 20), zc=2., sigmaz=2., b=0.8 / np.sqrt(2.4), nonlinear=True):\n",
    "    '''\n",
    "    the same of get_cl_cib but it save the cls if you need them later\n",
    "    '''\n",
    "\n",
    "    cib_dir = 'cib/'\n",
    "    if not os.path.exists(cib_dir):\n",
    "        os.mkdir(cib_dir)\n",
    "    cib_name = os.path.join(cib_dir, 'cib')\n",
    "        \n",
    "    # get spectra\n",
    "    sips = qs.initial_ps(amp=2.2e-9, n_s=0.96, k_pivot=0.05)\n",
    "    lcdm = qs.cosmo.lcdm(omr=0.0, omb=0.049, omc=0.265, oml=0.686, H0=67.3)\n",
    "    mps = qs.mps.lin.mps_camb(lcdm, sips, nonlinear=nonlinear)\n",
    "    klen = qs.lens.kern(lcdm)\n",
    "    kcib = qs.cib.hall.ssed_kern(nu, jbar_kwargs={'zc': zc, 'sigmaz': sigmaz}, b=b)\n",
    "\n",
    "    cib_cp = np.array([mps.cl_limber_z(l, kcib, klen, zmin=1.e-2, zmax=20.) for l in ls])\n",
    "    cib_cc = np.array([mps.cl_limber_z(l, kcib, zmin=1.e-2, zmax=20.) for l in ls])\n",
    "    cib_pp = np.array([mps.cl_limber_x(l, klen, xmax=klen.xlss) for l in ls])\n",
    "\n",
    "    pk.dump((cib_cc, cib_cp, cib_pp), open(fname, 'w'))\n",
    "    return pk.load(open(fname, 'r'))"
   ]
  },
  {
   "cell_type": "code",
   "execution_count": 31,
   "metadata": {
    "collapsed": true
   },
   "outputs": [],
   "source": [
    "def get_cl_cib(nu, ls=np.arange(20, 4001, 20), zc=2., sigmaz=2., b=1.0 / np.sqrt(2.4), nonlinear=True):\n",
    "    '''\n",
    "    This is a wrapper of D. Hanson quickspec that computes CIB power spectra given a theory.\n",
    "\n",
    "    It uses the Hall model for the CIB. You can do this with Eisenstein hu or you have to interface pycamb somehow\n",
    "    TODO maybe add a way to pass CAMB matter power and that is it.\n",
    "\n",
    "    INPUT:\n",
    "    lam: lambda, wavelenght of the CIB model 250,350 or 500 possible in this case\n",
    "\n",
    "\n",
    "\n",
    "    OUTPUT:\n",
    "\n",
    "        cib_cp = C^phi-cib\n",
    "        cib_pp =C^phi\n",
    "        cib_cc = C^cib\n",
    "    '''\n",
    "    # get spectra\n",
    "    sips = qs.initial_ps(amp=2.2e-9, n_s=0.96, k_pivot=0.05)\n",
    "    lcdm = qs.cosmo.lcdm(omr=0.0, omb=0.049, omc=0.265, oml=0.686, H0=67.3)\n",
    "    mps = qs.mps.lin.mps_camb(lcdm, sips, nonlinear=nonlinear)\n",
    "    klen = qs.lens.kern(lcdm)\n",
    "    kcib = qs.cib.hall.ssed_kern(nu, jbar_kwargs={'zc': zc, 'sigmaz': sigmaz}, b=b)\n",
    "\n",
    "    cib_cp = np.array([mps.cl_limber_z(l, kcib, klen, zmin=1.e-2, zmax=20.) for l in ls])\n",
    "    cib_cc = np.array([mps.cl_limber_z(l, kcib, zmin=1.e-2, zmax=20.) for l in ls])\n",
    "    cib_pp = np.array([mps.cl_limber_z(l, klen, zmin=1.e-2, zmax=20.) for l in ls])\n",
    "\n",
    "    return (cib_cc, cib_cp, cib_pp)"
   ]
  },
  {
   "cell_type": "code",
   "execution_count": null,
   "metadata": {
    "collapsed": true
   },
   "outputs": [],
   "source": []
  },
  {
   "cell_type": "code",
   "execution_count": 32,
   "metadata": {
    "collapsed": true
   },
   "outputs": [],
   "source": [
    "ls = 1. * np.arange(20, 4001, 20)\n",
    "\n",
    "# get the power spectra from Duncan quickspec                                                                                                                     \n",
    "cc, cp, pp = get_cl_cib(600.e9, ls=ls, b=0.5)"
   ]
  },
  {
   "cell_type": "code",
   "execution_count": 36,
   "metadata": {},
   "outputs": [
    {
     "name": "stderr",
     "output_type": "stream",
     "text": [
      "/Users/dlenz/anaconda/envs/py27/lib/python2.7/site-packages/ipykernel_launcher.py:3: RuntimeWarning: divide by zero encountered in divide\n",
      "  This is separate from the ipykernel package so we can avoid doing imports until\n"
     ]
    }
   ],
   "source": [
    "# CMBlens auto, in convergence kappa\n",
    "lmax_cib=4000.\n",
    "clpp = np.interp(np.arange(0, lmax_cib), ls, pp * ls**4, left=0, right=0) * np.nan_to_num(1. / np.arange(0., lmax_cib)**4)"
   ]
  },
  {
   "cell_type": "code",
   "execution_count": 40,
   "metadata": {},
   "outputs": [
    {
     "data": {
      "text/plain": [
       "[<matplotlib.lines.Line2D at 0x11d1d2550>]"
      ]
     },
     "execution_count": 40,
     "metadata": {},
     "output_type": "execute_result"
    },
    {
     "data": {
      "image/png": "[encoded data removed]",
      "text/plain": [
       "<matplotlib.figure.Figure at 0x1207dead0>"
      ]
     },
     "metadata": {
      "image/png": {
       "height": 251,
       "width": 386
      }
     },
     "output_type": "display_data"
    }
   ],
   "source": [
    "plt.loglog(clpp)"
   ]
  },
  {
   "cell_type": "code",
   "execution_count": null,
   "metadata": {
    "collapsed": true
   },
   "outputs": [],
   "source": []
  }
 ],
 "metadata": {
  "kernelspec": {
   "display_name": "Python 3",
   "language": "python",
   "name": "python3"
  },
  "language_info": {
   "codemirror_mode": {
    "name": "ipython",
    "version": 3
   },
   "file_extension": ".py",
   "mimetype": "text/x-python",
   "name": "python",
   "nbconvert_exporter": "python",
   "pygments_lexer": "ipython3",
   "version": "3.6.1"
  },
  "toc": {
   "colors": {
    "hover_highlight": "#DAA520",
    "navigate_num": "#000000",
    "navigate_text": "#333333",
    "running_highlight": "#FF0000",
    "selected_highlight": "#FFD700",
    "sidebar_border": "#EEEEEE",
    "wrapper_background": "#FFFFFF"
   },
   "moveMenuLeft": true,
   "nav_menu": {
    "height": "12px",
    "width": "252px"
   },
   "navigate_menu": true,
   "number_sections": true,
   "sideBar": true,
   "threshold": 4,
   "toc_cell": false,
   "toc_section_display": "block",
   "toc_window_display": false,
   "widenNotebook": false
  }
 },
 "nbformat": 4,
 "nbformat_minor": 2
}
